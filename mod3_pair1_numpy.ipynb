{
 "cells": [
  {
   "cell_type": "code",
   "execution_count": 1,
   "id": "b552f140",
   "metadata": {},
   "outputs": [],
   "source": [
    "import pandas as pd\n",
    "import numpy as np"
   ]
  },
  {
   "cell_type": "markdown",
   "id": "f975abfe",
   "metadata": {},
   "source": [
    "1. Genera un array bidimensional de 4 x 3 con valores aleatorios enteros entre el 34 y el 98. Una vez creado cada array comprueba las dimensiones y los tipos de datos que tenemos en el array."
   ]
  },
  {
   "cell_type": "code",
   "execution_count": 2,
   "id": "a36cd51b",
   "metadata": {},
   "outputs": [
    {
     "data": {
      "text/plain": [
       "array([[66, 60, 79],\n",
       "       [46, 58, 86],\n",
       "       [35, 62, 54],\n",
       "       [84, 57, 95]])"
      ]
     },
     "execution_count": 2,
     "metadata": {},
     "output_type": "execute_result"
    }
   ],
   "source": [
    "array_2D_1 = np.random.randint(34, 99, size = (4,3))\n",
    "array_2D_1"
   ]
  },
  {
   "cell_type": "markdown",
   "id": "06cde99a",
   "metadata": {},
   "source": [
    "2. Crea dos arrays (unidimensional, bidimensional) usando el método np.array()."
   ]
  },
  {
   "cell_type": "code",
   "execution_count": null,
   "id": "07cb5381",
   "metadata": {},
   "outputs": [],
   "source": [
    "# Las listas para crear los arrays son las siguientes\n",
    "lista1 = [34,56,71,98, 10]\n",
    "lista2 = [[23,45,89, 56], [12,43,82,44]]"
   ]
  },
  {
   "cell_type": "code",
   "execution_count": 6,
   "id": "2afdb07c",
   "metadata": {},
   "outputs": [
    {
     "data": {
      "text/plain": [
       "array([34, 56, 71, 98, 10])"
      ]
     },
     "execution_count": 6,
     "metadata": {},
     "output_type": "execute_result"
    }
   ],
   "source": [
    "array_1D_lista1 = np.array(lista1)\n",
    "array_1D_lista1 "
   ]
  },
  {
   "cell_type": "code",
   "execution_count": 7,
   "id": "8c260106",
   "metadata": {},
   "outputs": [
    {
     "data": {
      "text/plain": [
       "array([[23, 45, 89, 56],\n",
       "       [12, 43, 82, 44]])"
      ]
     },
     "execution_count": 7,
     "metadata": {},
     "output_type": "execute_result"
    }
   ],
   "source": [
    "array_2D_lista2 = np.array(lista2)\n",
    "array_2D_lista2"
   ]
  },
  {
   "cell_type": "code",
   "execution_count": 8,
   "id": "514e0e92",
   "metadata": {},
   "outputs": [
    {
     "data": {
      "text/plain": [
       "numpy.ndarray"
      ]
     },
     "execution_count": 8,
     "metadata": {},
     "output_type": "execute_result"
    }
   ],
   "source": [
    "type(array_2D_lista2)"
   ]
  },
  {
   "cell_type": "markdown",
   "id": "814d76a1",
   "metadata": {},
   "source": [
    "3. Crea un array unidimensional con 50 elementos con el método que prefieras y extrae:\n",
    "\n",
    "- El primer elemento.\n",
    "\n",
    "- Lo elementos que están en posición impar.\n",
    "\n",
    "- Los cuatro primeros elementos.\n",
    "\n",
    "- Los últimos tres elementos.\n",
    "\n",
    "- Los elementos entre el 4 y el 8 (incluido)."
   ]
  },
  {
   "cell_type": "code",
   "execution_count": 9,
   "id": "3bc4fc20",
   "metadata": {},
   "outputs": [
    {
     "data": {
      "text/plain": [
       "array([ 0,  1,  2,  3,  4,  5,  6,  7,  8,  9, 10, 11, 12, 13, 14, 15, 16,\n",
       "       17, 18, 19, 20, 21, 22, 23, 24, 25, 26, 27, 28, 29, 30, 31, 32, 33,\n",
       "       34, 35, 36, 37, 38, 39, 40, 41, 42, 43, 44, 45, 46, 47, 48, 49, 50])"
      ]
     },
     "execution_count": 9,
     "metadata": {},
     "output_type": "execute_result"
    }
   ],
   "source": [
    "array_1D_arange = np.arange(51)\n",
    "array_1D_arange"
   ]
  },
  {
   "cell_type": "code",
   "execution_count": 10,
   "id": "1b7207a1",
   "metadata": {},
   "outputs": [
    {
     "data": {
      "text/plain": [
       "0"
      ]
     },
     "execution_count": 10,
     "metadata": {},
     "output_type": "execute_result"
    }
   ],
   "source": [
    "# el 1er elemento\n",
    "array_1D_arange[0]"
   ]
  },
  {
   "cell_type": "code",
   "execution_count": null,
   "id": "e2a486f6",
   "metadata": {},
   "outputs": [
    {
     "data": {
      "text/plain": [
       "array([ 1,  3,  5,  7,  9, 11, 13, 15, 17, 19, 21, 23, 25, 27, 29, 31, 33,\n",
       "       35, 37, 39, 41, 43, 45, 47, 49])"
      ]
     },
     "execution_count": 14,
     "metadata": {},
     "output_type": "execute_result"
    }
   ],
   "source": [
    "# elementos POSICIÓN impar (lenguaje python)\n",
    "array_1D_arange[1: :2] "
   ]
  },
  {
   "cell_type": "code",
   "execution_count": null,
   "id": "715f6455",
   "metadata": {},
   "outputs": [
    {
     "data": {
      "text/plain": [
       "array([ 0,  2,  4,  6,  8, 10, 12, 14, 16, 18, 20, 22, 24, 26, 28, 30, 32,\n",
       "       34, 36, 38, 40, 42, 44, 46, 48, 50])"
      ]
     },
     "execution_count": 15,
     "metadata": {},
     "output_type": "execute_result"
    }
   ],
   "source": [
    "# POSICIÓN impar (lenguaje humano))\n",
    "array_1D_arange[: :2] "
   ]
  },
  {
   "cell_type": "code",
   "execution_count": 17,
   "id": "eea568d5",
   "metadata": {},
   "outputs": [
    {
     "data": {
      "text/plain": [
       "array([0, 1, 2, 3])"
      ]
     },
     "execution_count": 17,
     "metadata": {},
     "output_type": "execute_result"
    }
   ],
   "source": [
    "# los 4 primeros elementos\n",
    "array_1D_arange[:4]"
   ]
  },
  {
   "cell_type": "code",
   "execution_count": 20,
   "id": "0c112c6f",
   "metadata": {},
   "outputs": [
    {
     "data": {
      "text/plain": [
       "array([48, 49, 50])"
      ]
     },
     "execution_count": 20,
     "metadata": {},
     "output_type": "execute_result"
    }
   ],
   "source": [
    "# los últimos 3 elementos\n",
    "array_1D_arange[-3:]"
   ]
  },
  {
   "cell_type": "code",
   "execution_count": null,
   "id": "c85ca7dd",
   "metadata": {},
   "outputs": [
    {
     "data": {
      "text/plain": [
       "array([ 0,  1,  2,  3,  4,  5,  6,  7,  8,  9, 10, 11, 12, 13, 14, 15, 16,\n",
       "       17, 18, 19, 20, 21, 22, 23, 24, 25, 26, 27, 28, 29, 30, 31, 32, 33,\n",
       "       34, 35, 36, 37, 38, 39, 40, 41, 42, 43, 44, 45, 46, 47])"
      ]
     },
     "execution_count": 21,
     "metadata": {},
     "output_type": "execute_result"
    }
   ],
   "source": [
    "array_1D_arange[:-3] # te quita los últimos tres"
   ]
  },
  {
   "cell_type": "code",
   "execution_count": 24,
   "id": "da970ed1",
   "metadata": {},
   "outputs": [
    {
     "data": {
      "text/plain": [
       "array([4, 5, 6, 7, 8])"
      ]
     },
     "execution_count": 24,
     "metadata": {},
     "output_type": "execute_result"
    }
   ],
   "source": [
    "# los elementos entre el 4 y el 8 incluido\n",
    "array_1D_arange[4:9]"
   ]
  },
  {
   "cell_type": "markdown",
   "id": "d2156de4",
   "metadata": {},
   "source": [
    "4. Crea un array de dos dimensiones de 4 x 5 con el método que prefieras y extrae:\n",
    "\n",
    "- La primera fila y todas las columnas.\n",
    "\n",
    "- Todas las filas pares.\n",
    "\n",
    "- La primera columna y todas las filas."
   ]
  },
  {
   "cell_type": "code",
   "execution_count": 25,
   "id": "6e3d7425",
   "metadata": {},
   "outputs": [
    {
     "data": {
      "text/plain": [
       "array([[82, 22, 65, 41, 49],\n",
       "       [38, 66, 44, 82, 67],\n",
       "       [47, 67, 64, 82, 73],\n",
       "       [21, 39, 40, 65, 65]])"
      ]
     },
     "execution_count": 25,
     "metadata": {},
     "output_type": "execute_result"
    }
   ],
   "source": [
    "array_2D_ej4 = np.random.randint(20, 84, size = (4,5))\n",
    "array_2D_ej4"
   ]
  },
  {
   "cell_type": "code",
   "execution_count": 31,
   "id": "7344a47e",
   "metadata": {},
   "outputs": [
    {
     "data": {
      "text/plain": [
       "array([82, 22, 65, 41, 49])"
      ]
     },
     "execution_count": 31,
     "metadata": {},
     "output_type": "execute_result"
    }
   ],
   "source": [
    "# 1a fila y todas las columnas\n",
    "array_2D_ej4[0,:]"
   ]
  },
  {
   "cell_type": "code",
   "execution_count": null,
   "id": "bcb6b858",
   "metadata": {},
   "outputs": [
    {
     "data": {
      "text/plain": [
       "array([[82, 22, 65, 41, 49],\n",
       "       [47, 67, 64, 82, 73]])"
      ]
     },
     "execution_count": 42,
     "metadata": {},
     "output_type": "execute_result"
    }
   ],
   "source": [
    "# todas las filas pares  --> lenguaje humano\n",
    "array_2D_ej4[:4:2,:]"
   ]
  },
  {
   "cell_type": "code",
   "execution_count": null,
   "id": "e834ab9d",
   "metadata": {},
   "outputs": [
    {
     "data": {
      "text/plain": [
       "array([[38, 66, 44, 82, 67],\n",
       "       [21, 39, 40, 65, 65]])"
      ]
     },
     "execution_count": 44,
     "metadata": {},
     "output_type": "execute_result"
    }
   ],
   "source": [
    "array_2D_ej4[1:4:2,:] # todas las filas pares  --> lenguaje python"
   ]
  },
  {
   "cell_type": "code",
   "execution_count": 47,
   "id": "42ec394c",
   "metadata": {},
   "outputs": [
    {
     "data": {
      "text/plain": [
       "array([82, 38, 47, 21])"
      ]
     },
     "execution_count": 47,
     "metadata": {},
     "output_type": "execute_result"
    }
   ],
   "source": [
    "# la 1a columna y TODAS las filas\n",
    "array_2D_ej4[:,0]"
   ]
  },
  {
   "cell_type": "markdown",
   "id": "3f5468a0",
   "metadata": {},
   "source": [
    "5. Crea un array bidimensional con 20 elementos aleatrorios entre 0 y 50 con el método que prefieras y:\n",
    "\n",
    "- Crea una mascara o filtro donde los valores mayores a 30 y menores a 10 se reemplace por \"objetivo\" y el resto por \"no es mi objetivo\".\n",
    "\n",
    "- Los valores de mi array bidimensional multiplicalos por el escalar 10."
   ]
  },
  {
   "cell_type": "code",
   "execution_count": 49,
   "id": "fb7e72c9",
   "metadata": {},
   "outputs": [
    {
     "data": {
      "text/plain": [
       "array([[20,  9, 25, 40, 42],\n",
       "       [38, 43, 23, 38, 26],\n",
       "       [ 9, 27, 29, 21,  3],\n",
       "       [ 1,  9,  4,  9,  0]])"
      ]
     },
     "execution_count": 49,
     "metadata": {},
     "output_type": "execute_result"
    }
   ],
   "source": [
    "array_2D_ej5 = np.random.randint(0, 51, size = (4,5))\n",
    "array_2D_ej5"
   ]
  },
  {
   "cell_type": "code",
   "execution_count": null,
   "id": "8438feba",
   "metadata": {},
   "outputs": [
    {
     "ename": "ValueError",
     "evalue": "either both or neither of x and y should be given",
     "output_type": "error",
     "traceback": [
      "\u001b[1;31m---------------------------------------------------------------------------\u001b[0m",
      "\u001b[1;31mValueError\u001b[0m                                Traceback (most recent call last)",
      "Cell \u001b[1;32mIn[52], line 2\u001b[0m\n\u001b[0;32m      1\u001b[0m \u001b[38;5;66;03m# mascara valores mayores 30 y menor a 10\u001b[39;00m\n\u001b[1;32m----> 2\u001b[0m mascara \u001b[38;5;241m=\u001b[39m np\u001b[38;5;241m.\u001b[39mwhere(array_2D_ej5 \u001b[38;5;241m>\u001b[39m \u001b[38;5;241m30\u001b[39m, np\u001b[38;5;241m.\u001b[39mwhere(array_2D_ej5 \u001b[38;5;241m<\u001b[39m \u001b[38;5;241m10\u001b[39m, \u001b[38;5;124m\"\u001b[39m\u001b[38;5;124mobjectivo\u001b[39m\u001b[38;5;124m\"\u001b[39m, \u001b[38;5;124m\"\u001b[39m\u001b[38;5;124mno es mi objetivo\u001b[39m\u001b[38;5;124m\"\u001b[39m))\n\u001b[0;32m      3\u001b[0m mascara\n",
      "\u001b[1;31mValueError\u001b[0m: either both or neither of x and y should be given"
     ]
    }
   ],
   "source": [
    "# mascara valores mayores 30 y menor a 10\n",
    "mascara = np.where(array_2D_ej5 > 30, np.where(array_2D_ej5 < 10, \"objectivo\", \"no es mi objetivo\"))\n",
    "mascara"
   ]
  }
 ],
 "metadata": {
  "kernelspec": {
   "display_name": "base",
   "language": "python",
   "name": "python3"
  },
  "language_info": {
   "codemirror_mode": {
    "name": "ipython",
    "version": 3
   },
   "file_extension": ".py",
   "mimetype": "text/x-python",
   "name": "python",
   "nbconvert_exporter": "python",
   "pygments_lexer": "ipython3",
   "version": "3.12.3"
  }
 },
 "nbformat": 4,
 "nbformat_minor": 5
}
