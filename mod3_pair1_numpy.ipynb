{
 "cells": [
  {
   "cell_type": "code",
   "execution_count": 3,
   "id": "b552f140",
   "metadata": {},
   "outputs": [],
   "source": [
    "import pandas as pd\n",
    "import numpy as np"
   ]
  },
  {
   "cell_type": "markdown",
   "id": "f975abfe",
   "metadata": {},
   "source": [
    "1. Genera un array bidimensional de 4 x 3 con valores aleatorios enteros entre el 34 y el 98. Una vez creado cada array comprueba las dimensiones y los tipos de datos que tenemos en el array."
   ]
  },
  {
   "cell_type": "code",
   "execution_count": 4,
   "id": "a36cd51b",
   "metadata": {},
   "outputs": [
    {
     "data": {
      "text/plain": [
       "array([[55, 92, 74],\n",
       "       [36, 86, 86],\n",
       "       [46, 55, 54],\n",
       "       [53, 83, 65]])"
      ]
     },
     "execution_count": 4,
     "metadata": {},
     "output_type": "execute_result"
    }
   ],
   "source": [
    "array_2D_1 = np.random.randint(34, 99, size = (4,3))\n",
    "array_2D_1"
   ]
  },
  {
   "cell_type": "markdown",
   "id": "06cde99a",
   "metadata": {},
   "source": [
    "2. Crea dos arrays (unidimensional, bidimensional) usando el método np.array()."
   ]
  },
  {
   "cell_type": "code",
   "execution_count": 5,
   "id": "07cb5381",
   "metadata": {},
   "outputs": [],
   "source": [
    "# Las listas para crear los arrays son las siguientes\n",
    "lista1 = [34,56,71,98, 10]\n",
    "lista2 = [[23,45,89, 56], [12,43,82,44]]"
   ]
  },
  {
   "cell_type": "code",
   "execution_count": 6,
   "id": "2afdb07c",
   "metadata": {},
   "outputs": [
    {
     "data": {
      "text/plain": [
       "array([34, 56, 71, 98, 10])"
      ]
     },
     "execution_count": 6,
     "metadata": {},
     "output_type": "execute_result"
    }
   ],
   "source": [
    "array_1D_lista1 = np.array(lista1)\n",
    "array_1D_lista1 "
   ]
  },
  {
   "cell_type": "code",
   "execution_count": 7,
   "id": "8c260106",
   "metadata": {},
   "outputs": [
    {
     "data": {
      "text/plain": [
       "array([[23, 45, 89, 56],\n",
       "       [12, 43, 82, 44]])"
      ]
     },
     "execution_count": 7,
     "metadata": {},
     "output_type": "execute_result"
    }
   ],
   "source": [
    "array_2D_lista2 = np.array(lista2)\n",
    "array_2D_lista2"
   ]
  },
  {
   "cell_type": "code",
   "execution_count": 8,
   "id": "514e0e92",
   "metadata": {},
   "outputs": [
    {
     "data": {
      "text/plain": [
       "numpy.ndarray"
      ]
     },
     "execution_count": 8,
     "metadata": {},
     "output_type": "execute_result"
    }
   ],
   "source": [
    "type(array_2D_lista2)"
   ]
  },
  {
   "cell_type": "markdown",
   "id": "814d76a1",
   "metadata": {},
   "source": [
    "3. Crea un array unidimensional con 50 elementos con el método que prefieras y extrae:\n",
    "\n",
    "- El primer elemento.\n",
    "\n",
    "- Lo elementos que están en posición impar.\n",
    "\n",
    "- Los cuatro primeros elementos.\n",
    "\n",
    "- Los últimos tres elementos.\n",
    "\n",
    "- Los elementos entre el 4 y el 8 (incluido)."
   ]
  },
  {
   "cell_type": "code",
   "execution_count": 9,
   "id": "3bc4fc20",
   "metadata": {},
   "outputs": [
    {
     "data": {
      "text/plain": [
       "array([ 0,  1,  2,  3,  4,  5,  6,  7,  8,  9, 10, 11, 12, 13, 14, 15, 16,\n",
       "       17, 18, 19, 20, 21, 22, 23, 24, 25, 26, 27, 28, 29, 30, 31, 32, 33,\n",
       "       34, 35, 36, 37, 38, 39, 40, 41, 42, 43, 44, 45, 46, 47, 48, 49, 50])"
      ]
     },
     "execution_count": 9,
     "metadata": {},
     "output_type": "execute_result"
    }
   ],
   "source": [
    "array_1D_arange = np.arange(51)\n",
    "array_1D_arange"
   ]
  },
  {
   "cell_type": "code",
   "execution_count": 10,
   "id": "1b7207a1",
   "metadata": {},
   "outputs": [
    {
     "data": {
      "text/plain": [
       "0"
      ]
     },
     "execution_count": 10,
     "metadata": {},
     "output_type": "execute_result"
    }
   ],
   "source": [
    "# el 1er elemento\n",
    "array_1D_arange[0]"
   ]
  },
  {
   "cell_type": "code",
   "execution_count": 11,
   "id": "e2a486f6",
   "metadata": {},
   "outputs": [
    {
     "data": {
      "text/plain": [
       "array([ 1,  3,  5,  7,  9, 11, 13, 15, 17, 19, 21, 23, 25, 27, 29, 31, 33,\n",
       "       35, 37, 39, 41, 43, 45, 47, 49])"
      ]
     },
     "execution_count": 11,
     "metadata": {},
     "output_type": "execute_result"
    }
   ],
   "source": [
    "# elementos POSICIÓN impar (lenguaje python)\n",
    "array_1D_arange[1: :2] "
   ]
  },
  {
   "cell_type": "code",
   "execution_count": 12,
   "id": "715f6455",
   "metadata": {},
   "outputs": [
    {
     "data": {
      "text/plain": [
       "array([ 0,  2,  4,  6,  8, 10, 12, 14, 16, 18, 20, 22, 24, 26, 28, 30, 32,\n",
       "       34, 36, 38, 40, 42, 44, 46, 48, 50])"
      ]
     },
     "execution_count": 12,
     "metadata": {},
     "output_type": "execute_result"
    }
   ],
   "source": [
    "# POSICIÓN impar (lenguaje humano))\n",
    "array_1D_arange[: :2] "
   ]
  },
  {
   "cell_type": "code",
   "execution_count": 13,
   "id": "eea568d5",
   "metadata": {},
   "outputs": [
    {
     "data": {
      "text/plain": [
       "array([0, 1, 2, 3])"
      ]
     },
     "execution_count": 13,
     "metadata": {},
     "output_type": "execute_result"
    }
   ],
   "source": [
    "# los 4 primeros elementos\n",
    "array_1D_arange[:4]"
   ]
  },
  {
   "cell_type": "code",
   "execution_count": 14,
   "id": "0c112c6f",
   "metadata": {},
   "outputs": [
    {
     "data": {
      "text/plain": [
       "array([48, 49, 50])"
      ]
     },
     "execution_count": 14,
     "metadata": {},
     "output_type": "execute_result"
    }
   ],
   "source": [
    "# los últimos 3 elementos\n",
    "array_1D_arange[-3:]"
   ]
  },
  {
   "cell_type": "code",
   "execution_count": 15,
   "id": "c85ca7dd",
   "metadata": {},
   "outputs": [
    {
     "data": {
      "text/plain": [
       "array([ 0,  1,  2,  3,  4,  5,  6,  7,  8,  9, 10, 11, 12, 13, 14, 15, 16,\n",
       "       17, 18, 19, 20, 21, 22, 23, 24, 25, 26, 27, 28, 29, 30, 31, 32, 33,\n",
       "       34, 35, 36, 37, 38, 39, 40, 41, 42, 43, 44, 45, 46, 47])"
      ]
     },
     "execution_count": 15,
     "metadata": {},
     "output_type": "execute_result"
    }
   ],
   "source": [
    "array_1D_arange[:-3] # te quita los últimos tres"
   ]
  },
  {
   "cell_type": "code",
   "execution_count": 16,
   "id": "da970ed1",
   "metadata": {},
   "outputs": [
    {
     "data": {
      "text/plain": [
       "array([4, 5, 6, 7, 8])"
      ]
     },
     "execution_count": 16,
     "metadata": {},
     "output_type": "execute_result"
    }
   ],
   "source": [
    "# los elementos entre el 4 y el 8 incluido\n",
    "array_1D_arange[4:9]"
   ]
  },
  {
   "cell_type": "markdown",
   "id": "d2156de4",
   "metadata": {},
   "source": [
    "4. Crea un array de dos dimensiones de 4 x 5 con el método que prefieras y extrae:\n",
    "\n",
    "- La primera fila y todas las columnas.\n",
    "\n",
    "- Todas las filas pares.\n",
    "\n",
    "- La primera columna y todas las filas."
   ]
  },
  {
   "cell_type": "code",
   "execution_count": 17,
   "id": "6e3d7425",
   "metadata": {},
   "outputs": [
    {
     "data": {
      "text/plain": [
       "array([[52, 38, 36, 83, 35],\n",
       "       [35, 77, 29, 52, 52],\n",
       "       [37, 38, 56, 72, 52],\n",
       "       [23, 78, 77, 60, 78]])"
      ]
     },
     "execution_count": 17,
     "metadata": {},
     "output_type": "execute_result"
    }
   ],
   "source": [
    "array_2D_ej4 = np.random.randint(20, 84, size = (4,5))\n",
    "array_2D_ej4"
   ]
  },
  {
   "cell_type": "code",
   "execution_count": 18,
   "id": "7344a47e",
   "metadata": {},
   "outputs": [
    {
     "data": {
      "text/plain": [
       "array([52, 38, 36, 83, 35])"
      ]
     },
     "execution_count": 18,
     "metadata": {},
     "output_type": "execute_result"
    }
   ],
   "source": [
    "# 1a fila y todas las columnas\n",
    "array_2D_ej4[0,:]"
   ]
  },
  {
   "cell_type": "code",
   "execution_count": 19,
   "id": "bcb6b858",
   "metadata": {},
   "outputs": [
    {
     "data": {
      "text/plain": [
       "array([[52, 38, 36, 83, 35],\n",
       "       [37, 38, 56, 72, 52]])"
      ]
     },
     "execution_count": 19,
     "metadata": {},
     "output_type": "execute_result"
    }
   ],
   "source": [
    "# todas las filas pares  --> lenguaje humano\n",
    "array_2D_ej4[:4:2,:]"
   ]
  },
  {
   "cell_type": "code",
   "execution_count": 20,
   "id": "e834ab9d",
   "metadata": {},
   "outputs": [
    {
     "data": {
      "text/plain": [
       "array([[35, 77, 29, 52, 52],\n",
       "       [23, 78, 77, 60, 78]])"
      ]
     },
     "execution_count": 20,
     "metadata": {},
     "output_type": "execute_result"
    }
   ],
   "source": [
    "array_2D_ej4[1:4:2,:] # todas las filas pares  --> lenguaje python"
   ]
  },
  {
   "cell_type": "markdown",
   "id": "3f5468a0",
   "metadata": {},
   "source": [
    "5. Crea un array bidimensional con 20 elementos aleatrorios entre 0 y 50 con el método que prefieras y:\n",
    "\n",
    "- Crea una mascara o filtro donde los valores mayores a 30 y menores a 10 se reemplace por \"objetivo\" y el resto por \"no es mi objetivo\".\n",
    "\n",
    "- Los valores de mi array bidimensional multiplicalos por el escalar 10."
   ]
  },
  {
   "cell_type": "code",
   "execution_count": 21,
   "id": "42ec394c",
   "metadata": {},
   "outputs": [
    {
     "data": {
      "text/plain": [
       "array([52, 35, 37, 23])"
      ]
     },
     "execution_count": 21,
     "metadata": {},
     "output_type": "execute_result"
    }
   ],
   "source": [
    "# la 1a columna y TODAS las filas\n",
    "array_2D_ej4[:,0]"
   ]
  },
  {
   "cell_type": "code",
   "execution_count": 22,
   "id": "fb7e72c9",
   "metadata": {},
   "outputs": [
    {
     "data": {
      "text/plain": [
       "array([[11, 33, 32, 26, 21],\n",
       "       [ 2,  2, 39,  4, 13],\n",
       "       [39, 30, 11, 23, 37],\n",
       "       [ 1, 18, 34, 13, 45]])"
      ]
     },
     "execution_count": 22,
     "metadata": {},
     "output_type": "execute_result"
    }
   ],
   "source": [
    "array_2D_ej5 = np.random.randint(0, 51, size = (4,5))\n",
    "array_2D_ej5"
   ]
  },
  {
   "cell_type": "code",
   "execution_count": 29,
   "id": "8438feba",
   "metadata": {},
   "outputs": [],
   "source": [
    "# mascara valores mayores 30 y menores a 10\n",
    "mascara = (array_2D_ej5 > 30) | (array_2D_ej5 < 10)"
   ]
  },
  {
   "cell_type": "code",
   "execution_count": 31,
   "id": "575557d5",
   "metadata": {},
   "outputs": [
    {
     "name": "stdout",
     "output_type": "stream",
     "text": [
      "[['no es mi objetivo' 'objetivo' 'objetivo' 'no es mi objetivo'\n",
      "  'no es mi objetivo']\n",
      " ['objetivo' 'objetivo' 'objetivo' 'objetivo' 'no es mi objetivo']\n",
      " ['objetivo' 'no es mi objetivo' 'no es mi objetivo' 'no es mi objetivo'\n",
      "  'objetivo']\n",
      " ['objetivo' 'no es mi objetivo' 'objetivo' 'no es mi objetivo'\n",
      "  'objetivo']]\n"
     ]
    }
   ],
   "source": [
    "resultado = np.where(mascara, \"objetivo\", \"no es mi objetivo\")\n",
    "print(resultado)"
   ]
  },
  {
   "cell_type": "code",
   "execution_count": 32,
   "id": "779eb334",
   "metadata": {},
   "outputs": [
    {
     "data": {
      "text/plain": [
       "array([[110, 330, 320, 260, 210],\n",
       "       [ 20,  20, 390,  40, 130],\n",
       "       [390, 300, 110, 230, 370],\n",
       "       [ 10, 180, 340, 130, 450]])"
      ]
     },
     "execution_count": 32,
     "metadata": {},
     "output_type": "execute_result"
    }
   ],
   "source": [
    "# array multiplicado por el escalar 10\n",
    "escalar = 10\n",
    "array_2D_ej5 * escalar"
   ]
  },
  {
   "cell_type": "markdown",
   "id": "61417fbb",
   "metadata": {},
   "source": [
    "\n",
    "6. Crea un nuevo array de dos dimensiones con la misma forma que el anterior y con el método que prefieras y realiza lo siguiente:\n",
    "\n",
    "Suma el primer array con el segundo.\n",
    "\n",
    "Aplicar la potencia para el primer array elevado al segundo."
   ]
  },
  {
   "cell_type": "code",
   "execution_count": 33,
   "id": "6f740115",
   "metadata": {},
   "outputs": [
    {
     "data": {
      "text/plain": [
       "array([[ 92,  77,  74,  80,  91],\n",
       "       [ 77,  55,  91,  74,  65],\n",
       "       [ 84,  62,  84,  92,  65],\n",
       "       [ 99,  81, 100,  79,  85]])"
      ]
     },
     "execution_count": 33,
     "metadata": {},
     "output_type": "execute_result"
    }
   ],
   "source": [
    "array_2D_ej6 = np.random.randint(51, 101, size = (4,5))\n",
    "array_2D_ej6"
   ]
  },
  {
   "cell_type": "code",
   "execution_count": 34,
   "id": "110c9fad",
   "metadata": {},
   "outputs": [
    {
     "data": {
      "text/plain": [
       "array([[103, 110, 106, 106, 112],\n",
       "       [ 79,  57, 130,  78,  78],\n",
       "       [123,  92,  95, 115, 102],\n",
       "       [100,  99, 134,  92, 130]])"
      ]
     },
     "execution_count": 34,
     "metadata": {},
     "output_type": "execute_result"
    }
   ],
   "source": [
    "# suma el primer array con el segundo\n",
    "array_2D_ej5 + array_2D_ej6"
   ]
  },
  {
   "cell_type": "code",
   "execution_count": 37,
   "id": "a2c94c9a",
   "metadata": {},
   "outputs": [
    {
     "data": {
      "text/plain": [
       "array([[ 2030249621719054417, -2953674410420289119,                    0,\n",
       "                           0, -1534045714529295923],\n",
       "       [                   0,    36028797018963968, -5498489056002644361,\n",
       "                           0, -5058422884668523251],\n",
       "       [-4548275446437964191,  4611686018427387904,  4323319620982420209,\n",
       "        -1787182201297638943,  4773011433147663141],\n",
       "       [                   1,                    0,                    0,\n",
       "        -1485145929550239483, -4334167754899048643]])"
      ]
     },
     "execution_count": 37,
     "metadata": {},
     "output_type": "execute_result"
    }
   ],
   "source": [
    "# aplicar la potencia al primer array elevado al segundo\n",
    "potencia = np.power(array_2D_ej5, array_2D_ej6)\n",
    "potencia"
   ]
  },
  {
   "cell_type": "markdown",
   "id": "b228fef0",
   "metadata": {},
   "source": [
    "\n",
    "7. Crea un array, puede ser bidimensional! Eso si, los valores tienen que estar entre 0-100\n",
    "\n",
    "Calcula:\n",
    "\n",
    "La media de los elementos\n",
    "\n",
    "La media de las columnas y redondéalo a dos decimales\n",
    "\n",
    "El valor máximo de cada fila\n",
    "\n",
    "El valor mínimo de cada fila\n",
    "\n",
    "Hay algun valor que sea mayor que 90 en tu array\n",
    "\n",
    "Donde los podemos encontrar, cuáles son sus índices\n",
    "\n",
    "Ordena el array de mayor a menor"
   ]
  },
  {
   "cell_type": "code",
   "execution_count": 38,
   "id": "eda0a660",
   "metadata": {},
   "outputs": [
    {
     "data": {
      "text/plain": [
       "array([[33, 64, 37, 95, 50],\n",
       "       [60, 10, 74, 75, 62],\n",
       "       [ 0,  0,  6, 86, 42],\n",
       "       [14, 24, 16, 95,  2]])"
      ]
     },
     "execution_count": 38,
     "metadata": {},
     "output_type": "execute_result"
    }
   ],
   "source": [
    "array_2D_ej7 = np.random.randint(0, 101, size = (4,5))\n",
    "array_2D_ej7"
   ]
  },
  {
   "cell_type": "code",
   "execution_count": 39,
   "id": "48c94e1c",
   "metadata": {},
   "outputs": [
    {
     "data": {
      "text/plain": [
       "42.25"
      ]
     },
     "execution_count": 39,
     "metadata": {},
     "output_type": "execute_result"
    }
   ],
   "source": [
    "# la media de los elementos\n",
    "np.mean(array_2D_ej7)"
   ]
  },
  {
   "cell_type": "code",
   "execution_count": 42,
   "id": "e1cefc55",
   "metadata": {},
   "outputs": [
    {
     "data": {
      "text/plain": [
       "array([26.75, 24.5 , 33.25, 87.75, 39.  ])"
      ]
     },
     "execution_count": 42,
     "metadata": {},
     "output_type": "execute_result"
    }
   ],
   "source": [
    "# la media por columna y redondealo a 2 decimales\n",
    "(array_2D_ej7.mean(axis=0)).round(decimals=2)"
   ]
  },
  {
   "cell_type": "code",
   "execution_count": 44,
   "id": "18ecdaa5",
   "metadata": {},
   "outputs": [
    {
     "data": {
      "text/plain": [
       "array([95, 75, 86, 95])"
      ]
     },
     "execution_count": 44,
     "metadata": {},
     "output_type": "execute_result"
    }
   ],
   "source": [
    "# el valor maximo de cada fila\n",
    "array_2D_ej7.max(axis=1)"
   ]
  },
  {
   "cell_type": "code",
   "execution_count": 45,
   "id": "85173abf",
   "metadata": {},
   "outputs": [
    {
     "data": {
      "text/plain": [
       "array([33, 10,  0,  2])"
      ]
     },
     "execution_count": 45,
     "metadata": {},
     "output_type": "execute_result"
    }
   ],
   "source": [
    "# el valor minimo de cada fila\n",
    "array_2D_ej7.min(axis=1)"
   ]
  },
  {
   "cell_type": "code",
   "execution_count": null,
   "id": "ea0fcf70",
   "metadata": {},
   "outputs": [
    {
     "name": "stdout",
     "output_type": "stream",
     "text": [
      "Índices donde los valores son mayores a 90: (array([0, 3]), array([3, 3]))\n"
     ]
    }
   ],
   "source": [
    "# valor mayor a 90 en el array y sus indices\n",
    "indices_mayores = np.where(array_2D_ej7 > 90)\n",
    "print(\"Índices donde los valores son mayores a 90:\", indices_mayores)"
   ]
  },
  {
   "cell_type": "code",
   "execution_count": 51,
   "id": "a529cd87",
   "metadata": {},
   "outputs": [
    {
     "data": {
      "text/plain": [
       "array([[95, 64, 50, 37, 33],\n",
       "       [75, 74, 62, 60, 10],\n",
       "       [86, 42,  6,  0,  0],\n",
       "       [95, 24, 16, 14,  2]])"
      ]
     },
     "execution_count": 51,
     "metadata": {},
     "output_type": "execute_result"
    }
   ],
   "source": [
    "# ordenar el array de mayor a menor\n",
    "ordenado = np.sort(array_2D_ej7)\n",
    "ordenado[:, ::-1]"
   ]
  },
  {
   "cell_type": "code",
   "execution_count": null,
   "id": "5302d21c",
   "metadata": {},
   "outputs": [],
   "source": []
  }
 ],
 "metadata": {
  "kernelspec": {
   "display_name": "base",
   "language": "python",
   "name": "python3"
  },
  "language_info": {
   "codemirror_mode": {
    "name": "ipython",
    "version": 3
   },
   "file_extension": ".py",
   "mimetype": "text/x-python",
   "name": "python",
   "nbconvert_exporter": "python",
   "pygments_lexer": "ipython3",
   "version": "3.12.7"
  }
 },
 "nbformat": 4,
 "nbformat_minor": 5
}
